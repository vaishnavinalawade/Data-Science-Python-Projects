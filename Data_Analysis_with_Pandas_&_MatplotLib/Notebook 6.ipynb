{
 "cells": [
  {
   "cell_type": "code",
   "execution_count": 1,
   "metadata": {},
   "outputs": [],
   "source": [
    "import pandas as pd"
   ]
  },
  {
   "cell_type": "code",
   "execution_count": 2,
   "metadata": {},
   "outputs": [],
   "source": [
    "df = pd.read_csv(\"dataset/diamonds.csv\", index_col = 0)"
   ]
  },
  {
   "cell_type": "code",
   "execution_count": 3,
   "metadata": {},
   "outputs": [
    {
     "data": {
      "text/html": [
       "<div>\n",
       "<style scoped>\n",
       "    .dataframe tbody tr th:only-of-type {\n",
       "        vertical-align: middle;\n",
       "    }\n",
       "\n",
       "    .dataframe tbody tr th {\n",
       "        vertical-align: top;\n",
       "    }\n",
       "\n",
       "    .dataframe thead th {\n",
       "        text-align: right;\n",
       "    }\n",
       "</style>\n",
       "<table border=\"1\" class=\"dataframe\">\n",
       "  <thead>\n",
       "    <tr style=\"text-align: right;\">\n",
       "      <th></th>\n",
       "      <th>carat</th>\n",
       "      <th>cut</th>\n",
       "      <th>color</th>\n",
       "      <th>clarity</th>\n",
       "      <th>depth</th>\n",
       "      <th>table</th>\n",
       "      <th>price</th>\n",
       "      <th>x</th>\n",
       "      <th>y</th>\n",
       "      <th>z</th>\n",
       "    </tr>\n",
       "  </thead>\n",
       "  <tbody>\n",
       "    <tr>\n",
       "      <th>1</th>\n",
       "      <td>0.23</td>\n",
       "      <td>Ideal</td>\n",
       "      <td>E</td>\n",
       "      <td>SI2</td>\n",
       "      <td>61.5</td>\n",
       "      <td>55.0</td>\n",
       "      <td>326</td>\n",
       "      <td>3.95</td>\n",
       "      <td>3.98</td>\n",
       "      <td>2.43</td>\n",
       "    </tr>\n",
       "    <tr>\n",
       "      <th>2</th>\n",
       "      <td>0.21</td>\n",
       "      <td>Premium</td>\n",
       "      <td>E</td>\n",
       "      <td>SI1</td>\n",
       "      <td>59.8</td>\n",
       "      <td>61.0</td>\n",
       "      <td>326</td>\n",
       "      <td>3.89</td>\n",
       "      <td>3.84</td>\n",
       "      <td>2.31</td>\n",
       "    </tr>\n",
       "    <tr>\n",
       "      <th>3</th>\n",
       "      <td>0.23</td>\n",
       "      <td>Good</td>\n",
       "      <td>E</td>\n",
       "      <td>VS1</td>\n",
       "      <td>56.9</td>\n",
       "      <td>65.0</td>\n",
       "      <td>327</td>\n",
       "      <td>4.05</td>\n",
       "      <td>4.07</td>\n",
       "      <td>2.31</td>\n",
       "    </tr>\n",
       "    <tr>\n",
       "      <th>4</th>\n",
       "      <td>0.29</td>\n",
       "      <td>Premium</td>\n",
       "      <td>I</td>\n",
       "      <td>VS2</td>\n",
       "      <td>62.4</td>\n",
       "      <td>58.0</td>\n",
       "      <td>334</td>\n",
       "      <td>4.20</td>\n",
       "      <td>4.23</td>\n",
       "      <td>2.63</td>\n",
       "    </tr>\n",
       "    <tr>\n",
       "      <th>5</th>\n",
       "      <td>0.31</td>\n",
       "      <td>Good</td>\n",
       "      <td>J</td>\n",
       "      <td>SI2</td>\n",
       "      <td>63.3</td>\n",
       "      <td>58.0</td>\n",
       "      <td>335</td>\n",
       "      <td>4.34</td>\n",
       "      <td>4.35</td>\n",
       "      <td>2.75</td>\n",
       "    </tr>\n",
       "  </tbody>\n",
       "</table>\n",
       "</div>"
      ],
      "text/plain": [
       "   carat      cut color clarity  depth  table  price     x     y     z\n",
       "1   0.23    Ideal     E     SI2   61.5   55.0    326  3.95  3.98  2.43\n",
       "2   0.21  Premium     E     SI1   59.8   61.0    326  3.89  3.84  2.31\n",
       "3   0.23     Good     E     VS1   56.9   65.0    327  4.05  4.07  2.31\n",
       "4   0.29  Premium     I     VS2   62.4   58.0    334  4.20  4.23  2.63\n",
       "5   0.31     Good     J     SI2   63.3   58.0    335  4.34  4.35  2.75"
      ]
     },
     "execution_count": 3,
     "metadata": {},
     "output_type": "execute_result"
    }
   ],
   "source": [
    "df.head()"
   ]
  },
  {
   "cell_type": "code",
   "execution_count": 4,
   "metadata": {},
   "outputs": [
    {
     "data": {
      "text/plain": [
       "array(['Ideal', 'Premium', 'Good', 'Very Good', 'Fair'], dtype=object)"
      ]
     },
     "execution_count": 4,
     "metadata": {},
     "output_type": "execute_result"
    }
   ],
   "source": [
    "df['cut'].unique()"
   ]
  },
  {
   "cell_type": "code",
   "execution_count": 5,
   "metadata": {},
   "outputs": [
    {
     "data": {
      "text/plain": [
       "array(['E', 'I', 'J', 'H', 'F', 'G', 'D'], dtype=object)"
      ]
     },
     "execution_count": 5,
     "metadata": {},
     "output_type": "execute_result"
    }
   ],
   "source": [
    "df['color'].unique()"
   ]
  },
  {
   "cell_type": "code",
   "execution_count": 6,
   "metadata": {},
   "outputs": [
    {
     "data": {
      "text/plain": [
       "array(['SI2', 'SI1', 'VS1', 'VS2', 'VVS2', 'VVS1', 'I1', 'IF'],\n",
       "      dtype=object)"
      ]
     },
     "execution_count": 6,
     "metadata": {},
     "output_type": "execute_result"
    }
   ],
   "source": [
    "df['clarity'].unique()"
   ]
  },
  {
   "cell_type": "code",
   "execution_count": 7,
   "metadata": {},
   "outputs": [],
   "source": [
    "cut_class_dict = {'Fair':1, 'Good':2, 'Very Good':3, 'Premium':4, 'Ideal':5}"
   ]
  },
  {
   "cell_type": "code",
   "execution_count": 8,
   "metadata": {},
   "outputs": [],
   "source": [
    "clarity_dict = {'I1':1, 'SI2':2, 'SI1':3, 'VS2':4, 'VS1':5, 'VVS2':6, 'VVS1':7, 'IF':8}"
   ]
  },
  {
   "cell_type": "code",
   "execution_count": 9,
   "metadata": {},
   "outputs": [],
   "source": [
    "color_dict = {'J':1, 'I':2, 'H':3, 'G':4, 'F':5, 'E':6, 'D':7}"
   ]
  },
  {
   "cell_type": "code",
   "execution_count": 10,
   "metadata": {},
   "outputs": [],
   "source": [
    "df['cut'] = df['cut'].map(cut_class_dict)"
   ]
  },
  {
   "cell_type": "code",
   "execution_count": 11,
   "metadata": {},
   "outputs": [],
   "source": [
    "df['clarity'] = df['clarity'].map(clarity_dict)"
   ]
  },
  {
   "cell_type": "code",
   "execution_count": 12,
   "metadata": {},
   "outputs": [],
   "source": [
    "df['color'] = df['color'].map(color_dict)"
   ]
  },
  {
   "cell_type": "code",
   "execution_count": 13,
   "metadata": {},
   "outputs": [
    {
     "data": {
      "text/html": [
       "<div>\n",
       "<style scoped>\n",
       "    .dataframe tbody tr th:only-of-type {\n",
       "        vertical-align: middle;\n",
       "    }\n",
       "\n",
       "    .dataframe tbody tr th {\n",
       "        vertical-align: top;\n",
       "    }\n",
       "\n",
       "    .dataframe thead th {\n",
       "        text-align: right;\n",
       "    }\n",
       "</style>\n",
       "<table border=\"1\" class=\"dataframe\">\n",
       "  <thead>\n",
       "    <tr style=\"text-align: right;\">\n",
       "      <th></th>\n",
       "      <th>carat</th>\n",
       "      <th>cut</th>\n",
       "      <th>color</th>\n",
       "      <th>clarity</th>\n",
       "      <th>depth</th>\n",
       "      <th>table</th>\n",
       "      <th>price</th>\n",
       "      <th>x</th>\n",
       "      <th>y</th>\n",
       "      <th>z</th>\n",
       "    </tr>\n",
       "  </thead>\n",
       "  <tbody>\n",
       "    <tr>\n",
       "      <th>1</th>\n",
       "      <td>0.23</td>\n",
       "      <td>5</td>\n",
       "      <td>6</td>\n",
       "      <td>2</td>\n",
       "      <td>61.5</td>\n",
       "      <td>55.0</td>\n",
       "      <td>326</td>\n",
       "      <td>3.95</td>\n",
       "      <td>3.98</td>\n",
       "      <td>2.43</td>\n",
       "    </tr>\n",
       "    <tr>\n",
       "      <th>2</th>\n",
       "      <td>0.21</td>\n",
       "      <td>4</td>\n",
       "      <td>6</td>\n",
       "      <td>3</td>\n",
       "      <td>59.8</td>\n",
       "      <td>61.0</td>\n",
       "      <td>326</td>\n",
       "      <td>3.89</td>\n",
       "      <td>3.84</td>\n",
       "      <td>2.31</td>\n",
       "    </tr>\n",
       "    <tr>\n",
       "      <th>3</th>\n",
       "      <td>0.23</td>\n",
       "      <td>2</td>\n",
       "      <td>6</td>\n",
       "      <td>5</td>\n",
       "      <td>56.9</td>\n",
       "      <td>65.0</td>\n",
       "      <td>327</td>\n",
       "      <td>4.05</td>\n",
       "      <td>4.07</td>\n",
       "      <td>2.31</td>\n",
       "    </tr>\n",
       "    <tr>\n",
       "      <th>4</th>\n",
       "      <td>0.29</td>\n",
       "      <td>4</td>\n",
       "      <td>2</td>\n",
       "      <td>4</td>\n",
       "      <td>62.4</td>\n",
       "      <td>58.0</td>\n",
       "      <td>334</td>\n",
       "      <td>4.20</td>\n",
       "      <td>4.23</td>\n",
       "      <td>2.63</td>\n",
       "    </tr>\n",
       "    <tr>\n",
       "      <th>5</th>\n",
       "      <td>0.31</td>\n",
       "      <td>2</td>\n",
       "      <td>1</td>\n",
       "      <td>2</td>\n",
       "      <td>63.3</td>\n",
       "      <td>58.0</td>\n",
       "      <td>335</td>\n",
       "      <td>4.34</td>\n",
       "      <td>4.35</td>\n",
       "      <td>2.75</td>\n",
       "    </tr>\n",
       "  </tbody>\n",
       "</table>\n",
       "</div>"
      ],
      "text/plain": [
       "   carat  cut  color  clarity  depth  table  price     x     y     z\n",
       "1   0.23    5      6        2   61.5   55.0    326  3.95  3.98  2.43\n",
       "2   0.21    4      6        3   59.8   61.0    326  3.89  3.84  2.31\n",
       "3   0.23    2      6        5   56.9   65.0    327  4.05  4.07  2.31\n",
       "4   0.29    4      2        4   62.4   58.0    334  4.20  4.23  2.63\n",
       "5   0.31    2      1        2   63.3   58.0    335  4.34  4.35  2.75"
      ]
     },
     "execution_count": 13,
     "metadata": {},
     "output_type": "execute_result"
    }
   ],
   "source": [
    "df.head()"
   ]
  },
  {
   "cell_type": "code",
   "execution_count": 14,
   "metadata": {},
   "outputs": [],
   "source": [
    "import sklearn"
   ]
  },
  {
   "cell_type": "code",
   "execution_count": 15,
   "metadata": {},
   "outputs": [],
   "source": [
    "from sklearn import svm, preprocessing"
   ]
  },
  {
   "cell_type": "code",
   "execution_count": 16,
   "metadata": {},
   "outputs": [],
   "source": [
    "df = sklearn.utils.shuffle(df)"
   ]
  },
  {
   "cell_type": "code",
   "execution_count": 17,
   "metadata": {},
   "outputs": [],
   "source": [
    "X = df.drop(\"price\", axis = 1).values"
   ]
  },
  {
   "cell_type": "code",
   "execution_count": 18,
   "metadata": {},
   "outputs": [],
   "source": [
    "X = preprocessing.scale(X)"
   ]
  },
  {
   "cell_type": "code",
   "execution_count": 19,
   "metadata": {},
   "outputs": [],
   "source": [
    "y = df['price'].values"
   ]
  },
  {
   "cell_type": "code",
   "execution_count": 20,
   "metadata": {},
   "outputs": [],
   "source": [
    "test_size = 200"
   ]
  },
  {
   "cell_type": "code",
   "execution_count": 21,
   "metadata": {},
   "outputs": [],
   "source": [
    "X_train = X[:-test_size]"
   ]
  },
  {
   "cell_type": "code",
   "execution_count": 22,
   "metadata": {},
   "outputs": [],
   "source": [
    "y_train = y[:-test_size]"
   ]
  },
  {
   "cell_type": "code",
   "execution_count": 23,
   "metadata": {},
   "outputs": [],
   "source": [
    "X_test = X[-test_size:]"
   ]
  },
  {
   "cell_type": "code",
   "execution_count": 24,
   "metadata": {},
   "outputs": [],
   "source": [
    "y_test = y[-test_size:]"
   ]
  },
  {
   "cell_type": "code",
   "execution_count": 25,
   "metadata": {},
   "outputs": [],
   "source": [
    "clf = svm.SVR(kernel = \"linear\")"
   ]
  },
  {
   "cell_type": "code",
   "execution_count": 26,
   "metadata": {},
   "outputs": [
    {
     "data": {
      "text/plain": [
       "SVR(C=1.0, cache_size=200, coef0=0.0, degree=3, epsilon=0.1,\n",
       "    gamma='auto_deprecated', kernel='linear', max_iter=-1, shrinking=True,\n",
       "    tol=0.001, verbose=False)"
      ]
     },
     "execution_count": 26,
     "metadata": {},
     "output_type": "execute_result"
    }
   ],
   "source": [
    "clf.fit(X_train, y_train)"
   ]
  },
  {
   "cell_type": "code",
   "execution_count": 27,
   "metadata": {},
   "outputs": [
    {
     "data": {
      "text/plain": [
       "0.8755270509552836"
      ]
     },
     "execution_count": 27,
     "metadata": {},
     "output_type": "execute_result"
    }
   ],
   "source": [
    "clf.score(X_test, y_test)"
   ]
  },
  {
   "cell_type": "code",
   "execution_count": 28,
   "metadata": {},
   "outputs": [
    {
     "name": "stdout",
     "output_type": "stream",
     "text": [
      "Model: 4693.166229608753, Actual:3718\n",
      "Model: 450.1891951000207, Actual:900\n",
      "Model: 599.4730316188657, Actual:789\n",
      "Model: 190.28981043865133, Actual:802\n",
      "Model: 1612.785267289528, Actual:1577\n",
      "Model: 3251.1249387785842, Actual:3247\n",
      "Model: 625.1167858566564, Actual:752\n",
      "Model: -237.41292766609013, Actual:628\n",
      "Model: 5889.947087156641, Actual:4773\n",
      "Model: 1915.353474376255, Actual:1689\n",
      "Model: 8949.33393304845, Actual:14220\n",
      "Model: 8413.880048152432, Actual:7953\n",
      "Model: 1138.621827427014, Actual:1064\n",
      "Model: 187.94577035184602, Actual:625\n",
      "Model: 3047.4208206772482, Actual:2232\n",
      "Model: 1707.2717250880514, Actual:1791\n",
      "Model: 3531.970016358365, Actual:3136\n",
      "Model: 1657.002240367134, Actual:1746\n",
      "Model: 3101.0748412058765, Actual:2553\n",
      "Model: 5969.235788093933, Actual:9160\n",
      "Model: 388.72494248420116, Actual:854\n",
      "Model: 99.46884344106411, Actual:612\n",
      "Model: 2755.23803261363, Actual:1998\n",
      "Model: 708.8861894506854, Actual:905\n",
      "Model: 6216.51678135677, Actual:5398\n",
      "Model: -504.33057620794807, Actual:523\n",
      "Model: 10683.965125150367, Actual:6632\n",
      "Model: 7341.4224364182855, Actual:3745\n",
      "Model: 2566.6713780477044, Actual:2667\n",
      "Model: 7314.469872432475, Actual:6889\n",
      "Model: 606.3153819841596, Actual:874\n",
      "Model: 9950.681141709445, Actual:12311\n",
      "Model: 1599.3896035346197, Actual:1379\n",
      "Model: 1018.1574104312285, Actual:1124\n",
      "Model: -544.2896206198161, Actual:421\n",
      "Model: 8826.064298651878, Actual:13248\n",
      "Model: 2379.750271531563, Actual:1914\n",
      "Model: 5330.135941650418, Actual:5837\n",
      "Model: 2328.4420049378195, Actual:2066\n",
      "Model: 281.0184591420425, Actual:749\n",
      "Model: -214.03984115626918, Actual:692\n",
      "Model: 9195.551941950627, Actual:11826\n",
      "Model: 3172.3417939725928, Actual:3045\n",
      "Model: 8176.413951188317, Actual:11032\n",
      "Model: -53.26617324547442, Actual:521\n",
      "Model: 5921.614718662786, Actual:5622\n",
      "Model: 2638.2121499819027, Actual:2368\n",
      "Model: 4336.597054763249, Actual:3927\n",
      "Model: 11846.315984135359, Actual:11825\n",
      "Model: 1262.6311820181832, Actual:1153\n",
      "Model: 7506.249141310143, Actual:10437\n",
      "Model: 3110.5371996857084, Actual:2360\n",
      "Model: 649.1299163877497, Actual:1125\n",
      "Model: 4025.6441537892306, Actual:3924\n",
      "Model: 11583.588526626107, Actual:12915\n",
      "Model: 5037.6109393875195, Actual:4381\n",
      "Model: 2780.9220843819176, Actual:2278\n",
      "Model: 3078.4037371809136, Actual:2519\n",
      "Model: 7861.930691930869, Actual:10378\n",
      "Model: 7061.951066485699, Actual:9471\n",
      "Model: 537.4032856548238, Actual:942\n",
      "Model: 3810.8563020591932, Actual:2396\n",
      "Model: 4262.255848244583, Actual:4011\n",
      "Model: 2050.1863052174667, Actual:1822\n",
      "Model: 310.79405488648854, Actual:765\n",
      "Model: -573.8143187672836, Actual:447\n",
      "Model: 636.4008447799952, Actual:826\n",
      "Model: 1287.2102519085797, Actual:1052\n",
      "Model: 497.30184705474903, Actual:664\n",
      "Model: 818.1585334838369, Actual:975\n",
      "Model: 4274.47794180603, Actual:3949\n",
      "Model: 10246.314676825965, Actual:17052\n",
      "Model: 2744.160523148, Actual:2437\n",
      "Model: 8879.371913635508, Actual:8548\n",
      "Model: 8025.214556915187, Actual:8736\n",
      "Model: 964.4506656422318, Actual:863\n",
      "Model: 484.13365551727065, Actual:626\n",
      "Model: 3121.4156304232793, Actual:2968\n",
      "Model: 9259.62355733046, Actual:7695\n",
      "Model: 4305.269291099933, Actual:3004\n",
      "Model: 2924.281368870486, Actual:2829\n",
      "Model: 12545.79653509453, Actual:18002\n",
      "Model: 11480.241370360056, Actual:14489\n",
      "Model: 12029.192016124474, Actual:15520\n",
      "Model: 5997.439046623838, Actual:5822\n",
      "Model: 1020.3293782951691, Actual:1061\n",
      "Model: 599.5750757582146, Actual:622\n",
      "Model: 6271.316041650776, Actual:8643\n",
      "Model: 2110.1034823668315, Actual:1890\n",
      "Model: 5049.303625946516, Actual:4764\n",
      "Model: 1745.8621539413737, Actual:1834\n",
      "Model: 186.65729714812096, Actual:855\n",
      "Model: -656.4175187907954, Actual:371\n",
      "Model: 1012.493018584652, Actual:878\n",
      "Model: 7234.250058623136, Actual:12253\n",
      "Model: 4807.173981785982, Actual:5855\n",
      "Model: 5867.963310690739, Actual:5341\n",
      "Model: 821.5001479775142, Actual:781\n",
      "Model: 7357.350699757881, Actual:8728\n",
      "Model: 108.6663491805798, Actual:709\n",
      "Model: 5109.6014815812705, Actual:4700\n",
      "Model: 8670.410832115509, Actual:12840\n",
      "Model: 1646.4772078142585, Actual:1393\n",
      "Model: 2215.7381681820316, Actual:1748\n",
      "Model: 6610.294649500936, Actual:5242\n",
      "Model: 2200.546205969682, Actual:2202\n",
      "Model: 2916.200863507529, Actual:2515\n",
      "Model: 1796.6995922701162, Actual:1199\n",
      "Model: 1373.3707952283848, Actual:1322\n",
      "Model: 4292.293005377492, Actual:3640\n",
      "Model: 5326.822846543468, Actual:5684\n",
      "Model: 937.7455477080007, Actual:786\n",
      "Model: 1447.859438497398, Actual:1381\n",
      "Model: 5769.036065532275, Actual:3965\n",
      "Model: 12129.663697899763, Actual:13275\n",
      "Model: 2038.2092323238846, Actual:1778\n",
      "Model: 8745.544065745727, Actual:8831\n",
      "Model: 8502.949680466123, Actual:10548\n",
      "Model: 1629.4707394077043, Actual:1569\n",
      "Model: 6188.6777655055375, Actual:7623\n",
      "Model: 168.6255724390635, Actual:631\n",
      "Model: 38.66612361296575, Actual:544\n",
      "Model: 127.99949289848837, Actual:469\n",
      "Model: 8676.446582570365, Actual:9533\n",
      "Model: 5430.506806803151, Actual:5022\n",
      "Model: 5013.51560881174, Actual:6818\n",
      "Model: 4891.054617631456, Actual:4434\n",
      "Model: 277.7802451329517, Actual:802\n",
      "Model: 4959.678410592518, Actual:4630\n",
      "Model: 927.6701904462147, Actual:763\n",
      "Model: 1434.6950595031194, Actual:979\n",
      "Model: 1904.6135274310586, Actual:1367\n",
      "Model: 5023.724506791706, Actual:3573\n",
      "Model: 1029.4075997078235, Actual:995\n",
      "Model: -178.43810429883342, Actual:421\n",
      "Model: 8222.016574559348, Actual:7357\n",
      "Model: 1441.2899295216953, Actual:1348\n",
      "Model: 4764.766368331252, Actual:4468\n",
      "Model: 3462.9716179158113, Actual:2913\n",
      "Model: 629.5338973055646, Actual:876\n",
      "Model: 4987.413054314735, Actual:5206\n",
      "Model: 7287.693193994051, Actual:5758\n",
      "Model: 2327.3702588979904, Actual:2008\n",
      "Model: 704.463877170318, Actual:652\n",
      "Model: 447.6582721598925, Actual:802\n",
      "Model: 12537.928982436808, Actual:13182\n",
      "Model: 506.29319589081024, Actual:876\n",
      "Model: 1551.2031599244635, Actual:1368\n",
      "Model: 4518.400120164854, Actual:4432\n",
      "Model: -52.97553343949858, Actual:628\n",
      "Model: 5993.962212151667, Actual:5368\n",
      "Model: 4940.880023898716, Actual:6030\n",
      "Model: 1399.2578158369251, Actual:1284\n",
      "Model: 1675.1592131548982, Actual:1656\n",
      "Model: 562.819196441143, Actual:644\n",
      "Model: 2798.422075459115, Actual:2001\n",
      "Model: 1029.575266125073, Actual:912\n",
      "Model: 2335.9199809354304, Actual:1963\n",
      "Model: -600.2356554549274, Actual:408\n",
      "Model: 1480.9162783546085, Actual:1999\n",
      "Model: 5037.816447487189, Actual:4242\n",
      "Model: 89.93179382685958, Actual:698\n",
      "Model: 5252.796465775646, Actual:4702\n",
      "Model: 3135.264336418894, Actual:2735\n",
      "Model: 946.0636422853468, Actual:864\n",
      "Model: 4517.898557868141, Actual:4337\n",
      "Model: 2974.724883900286, Actual:2737\n",
      "Model: 1873.4032436462862, Actual:1579\n",
      "Model: 728.7730969237218, Actual:707\n",
      "Model: 3570.3524290214186, Actual:3283\n",
      "Model: 3343.684490073854, Actual:2896\n",
      "Model: 4290.385528139224, Actual:2855\n",
      "Model: -515.5454385361495, Actual:394\n",
      "Model: 1470.0726707745134, Actual:1628\n",
      "Model: 154.7320841244773, Actual:516\n",
      "Model: 4997.848867653894, Actual:5700\n",
      "Model: 1177.4746490585521, Actual:1044\n",
      "Model: 8874.97568629014, Actual:10186\n",
      "Model: 1280.8617516925397, Actual:1160\n",
      "Model: 6074.542271618029, Actual:6566\n",
      "Model: 6249.815600244596, Actual:6416\n",
      "Model: 6515.261567363023, Actual:5628\n",
      "Model: 2686.95353898156, Actual:2207\n",
      "Model: 5065.849457662159, Actual:5599\n",
      "Model: 4300.965222465997, Actual:3405\n",
      "Model: 2321.0583524786525, Actual:1986\n",
      "Model: 31.958045639516968, Actual:675\n",
      "Model: 859.2936763564444, Actual:766\n",
      "Model: 499.7544220858322, Actual:904\n",
      "Model: 189.78898873436674, Actual:589\n",
      "Model: 3655.3516890852893, Actual:3582\n",
      "Model: 6108.140521187896, Actual:5950\n",
      "Model: 6040.028460872074, Actual:8567\n",
      "Model: 4058.049548206811, Actual:3603\n",
      "Model: 4859.3785415040065, Actual:4466\n",
      "Model: 6920.413603011744, Actual:9738\n",
      "Model: 747.7293428158787, Actual:1017\n",
      "Model: 1607.3777433243692, Actual:1619\n",
      "Model: 298.9685651310451, Actual:533\n",
      "Model: 437.1771489248622, Actual:923\n"
     ]
    }
   ],
   "source": [
    "for X,y in zip(X_test, y_test):\n",
    "    print(f\"Model: {clf.predict([X])[0]}, Actual:{y}\")"
   ]
  },
  {
   "cell_type": "code",
   "execution_count": 29,
   "metadata": {},
   "outputs": [],
   "source": [
    "clf = svm.SVR(kernel = 'rbf')"
   ]
  },
  {
   "cell_type": "code",
   "execution_count": 30,
   "metadata": {},
   "outputs": [
    {
     "name": "stderr",
     "output_type": "stream",
     "text": [
      "C:\\Users\\Vaish\\Anaconda3\\lib\\site-packages\\sklearn\\svm\\base.py:193: FutureWarning: The default value of gamma will change from 'auto' to 'scale' in version 0.22 to account better for unscaled features. Set gamma explicitly to 'auto' or 'scale' to avoid this warning.\n",
      "  \"avoid this warning.\", FutureWarning)\n"
     ]
    },
    {
     "data": {
      "text/plain": [
       "SVR(C=1.0, cache_size=200, coef0=0.0, degree=3, epsilon=0.1,\n",
       "    gamma='auto_deprecated', kernel='rbf', max_iter=-1, shrinking=True,\n",
       "    tol=0.001, verbose=False)"
      ]
     },
     "execution_count": 30,
     "metadata": {},
     "output_type": "execute_result"
    }
   ],
   "source": [
    "clf.fit(X_train, y_train)"
   ]
  },
  {
   "cell_type": "code",
   "execution_count": 31,
   "metadata": {},
   "outputs": [
    {
     "data": {
      "text/plain": [
       "0.662374833326965"
      ]
     },
     "execution_count": 31,
     "metadata": {},
     "output_type": "execute_result"
    }
   ],
   "source": [
    "clf.score(X_test, y_test)"
   ]
  },
  {
   "cell_type": "code",
   "execution_count": 32,
   "metadata": {},
   "outputs": [
    {
     "name": "stdout",
     "output_type": "stream",
     "text": [
      "Model:4240.805326180425, Actual:3718\n",
      "Model:817.1971360255288, Actual:900\n",
      "Model:749.7028493776188, Actual:789\n",
      "Model:381.05911872699653, Actual:802\n",
      "Model:1267.0642248844233, Actual:1577\n",
      "Model:3033.750724144264, Actual:3247\n",
      "Model:622.8992824232282, Actual:752\n",
      "Model:1477.4343194122348, Actual:628\n",
      "Model:5034.6942248047, Actual:4773\n",
      "Model:1841.0016323722975, Actual:1689\n",
      "Model:6931.153423655154, Actual:14220\n",
      "Model:5531.987121140044, Actual:7953\n",
      "Model:1165.9898703339786, Actual:1064\n",
      "Model:466.9636054043058, Actual:625\n",
      "Model:2935.545948422638, Actual:2232\n",
      "Model:1858.5576992778642, Actual:1791\n",
      "Model:3480.718982510479, Actual:3136\n",
      "Model:1277.855914841968, Actual:1746\n",
      "Model:3037.2040964744765, Actual:2553\n",
      "Model:5891.719598917961, Actual:9160\n",
      "Model:582.4746786738865, Actual:854\n",
      "Model:1122.4048329107022, Actual:612\n",
      "Model:2698.9776585063487, Actual:1998\n",
      "Model:936.286526413393, Actual:905\n",
      "Model:5301.062007129565, Actual:5398\n",
      "Model:783.0634142409235, Actual:523\n",
      "Model:4769.492851664562, Actual:6632\n",
      "Model:3673.6091892603163, Actual:3745\n",
      "Model:2374.7296200217897, Actual:2667\n",
      "Model:5644.049582444239, Actual:6889\n",
      "Model:899.3048678854084, Actual:874\n",
      "Model:7036.289068205557, Actual:12311\n",
      "Model:1408.0531179208356, Actual:1379\n",
      "Model:791.4203552016202, Actual:1124\n",
      "Model:519.1645523381144, Actual:421\n",
      "Model:7421.494103728979, Actual:13248\n",
      "Model:2139.3035896569836, Actual:1914\n",
      "Model:4973.502902012957, Actual:5837\n",
      "Model:2008.567106260294, Actual:2066\n",
      "Model:387.758427148236, Actual:749\n",
      "Model:1048.5681770608408, Actual:692\n",
      "Model:6984.271657066034, Actual:11826\n",
      "Model:3033.4332185825783, Actual:3045\n",
      "Model:6376.241940564464, Actual:11032\n",
      "Model:1124.2985715682348, Actual:521\n",
      "Model:4894.8521155227845, Actual:5622\n",
      "Model:2376.204530290748, Actual:2368\n",
      "Model:4182.308772102262, Actual:3927\n",
      "Model:6553.3627267176935, Actual:11825\n",
      "Model:1065.457249956803, Actual:1153\n",
      "Model:6269.838015981251, Actual:10437\n",
      "Model:2901.2877428522493, Actual:2360\n",
      "Model:1187.5933503735355, Actual:1125\n",
      "Model:3770.7593879047104, Actual:3924\n",
      "Model:5743.155433661396, Actual:12915\n",
      "Model:4523.748138922957, Actual:4381\n",
      "Model:2488.975532752546, Actual:2278\n",
      "Model:3015.5752283018387, Actual:2519\n",
      "Model:7281.176176046383, Actual:10378\n",
      "Model:7132.926871471076, Actual:9471\n",
      "Model:921.5163175700673, Actual:942\n",
      "Model:3538.30604219071, Actual:2396\n",
      "Model:3746.9628571525213, Actual:4011\n",
      "Model:1749.9074947523925, Actual:1822\n",
      "Model:496.7445722786092, Actual:765\n",
      "Model:1128.9701017585662, Actual:447\n",
      "Model:1968.806663953727, Actual:826\n",
      "Model:1124.4058389212619, Actual:1052\n",
      "Model:780.1796993329153, Actual:664\n",
      "Model:874.6776011211773, Actual:975\n",
      "Model:3785.4510323628897, Actual:3949\n",
      "Model:5683.202010582481, Actual:17052\n",
      "Model:2647.1093179078944, Actual:2437\n",
      "Model:6212.013021549849, Actual:8548\n",
      "Model:6291.012626165243, Actual:8736\n",
      "Model:780.7441996561265, Actual:863\n",
      "Model:1032.4091452250632, Actual:626\n",
      "Model:3028.6621408066553, Actual:2968\n",
      "Model:5946.3360554308165, Actual:7695\n",
      "Model:3789.038667958557, Actual:3004\n",
      "Model:2783.06577765648, Actual:2829\n",
      "Model:6538.887811193661, Actual:18002\n",
      "Model:6593.872299880254, Actual:14489\n",
      "Model:6991.248697793923, Actual:15520\n",
      "Model:5776.449013026543, Actual:5822\n",
      "Model:1018.4482539066821, Actual:1061\n",
      "Model:1238.6147032194876, Actual:622\n",
      "Model:5725.370898760513, Actual:8643\n",
      "Model:2178.0526776942934, Actual:1890\n",
      "Model:5066.465167614127, Actual:4764\n",
      "Model:1522.5812919520874, Actual:1834\n",
      "Model:1316.1216960021382, Actual:855\n",
      "Model:1105.3828277265634, Actual:371\n",
      "Model:1202.5527322127414, Actual:878\n",
      "Model:5282.404745385478, Actual:12253\n",
      "Model:4615.905751339922, Actual:5855\n",
      "Model:4846.590043234921, Actual:5341\n",
      "Model:932.9941668724387, Actual:781\n",
      "Model:7117.007723612336, Actual:8728\n",
      "Model:912.893960182429, Actual:709\n",
      "Model:5030.444334867814, Actual:4700\n",
      "Model:7705.201021854165, Actual:12840\n",
      "Model:1827.9383978074534, Actual:1393\n",
      "Model:2053.983600171292, Actual:1748\n",
      "Model:6407.09702454485, Actual:5242\n",
      "Model:2136.312186397645, Actual:2202\n",
      "Model:2557.1074724693353, Actual:2515\n",
      "Model:1376.0418616068534, Actual:1199\n",
      "Model:1203.3166520078867, Actual:1322\n",
      "Model:3745.450266455168, Actual:3640\n",
      "Model:4215.574656483323, Actual:5684\n",
      "Model:1424.3466150164813, Actual:786\n",
      "Model:1296.4096266187662, Actual:1381\n",
      "Model:4934.785202828075, Actual:3965\n",
      "Model:6551.355231180867, Actual:13275\n",
      "Model:1733.5809149747442, Actual:1778\n",
      "Model:6783.222772857276, Actual:8831\n",
      "Model:7429.924029189871, Actual:10548\n",
      "Model:1616.2491422061514, Actual:1569\n",
      "Model:6235.6922424354125, Actual:7623\n",
      "Model:1061.5109405371772, Actual:631\n",
      "Model:504.5670320685813, Actual:544\n",
      "Model:1185.8274372082838, Actual:469\n",
      "Model:6620.565601564371, Actual:9533\n",
      "Model:5457.123506151291, Actual:5022\n",
      "Model:5107.059900489447, Actual:6818\n",
      "Model:4516.9308426247735, Actual:4434\n",
      "Model:275.10822137758987, Actual:802\n",
      "Model:4779.297822209462, Actual:4630\n",
      "Model:2182.1514299021123, Actual:763\n",
      "Model:1215.7073605612604, Actual:979\n",
      "Model:1458.3650900142713, Actual:1367\n",
      "Model:4677.589549488922, Actual:3573\n",
      "Model:1050.5933921040723, Actual:995\n",
      "Model:1132.6849321360492, Actual:421\n",
      "Model:6218.4090846162335, Actual:7357\n",
      "Model:2389.2971961436933, Actual:1348\n",
      "Model:3874.9378950598, Actual:4468\n",
      "Model:3358.3140917687983, Actual:2913\n",
      "Model:1002.6005145191093, Actual:876\n",
      "Model:4275.051643390299, Actual:5206\n",
      "Model:6413.732719972681, Actual:5758\n",
      "Model:2514.3924418883425, Actual:2008\n",
      "Model:832.6507119387888, Actual:652\n",
      "Model:820.4809428227381, Actual:802\n",
      "Model:6153.611997041626, Actual:13182\n",
      "Model:836.7602512453609, Actual:876\n",
      "Model:1703.4710301737966, Actual:1368\n",
      "Model:4437.9064706940835, Actual:4432\n",
      "Model:761.176769722772, Actual:628\n",
      "Model:5766.811283004228, Actual:5368\n",
      "Model:4565.999945262459, Actual:6030\n",
      "Model:1143.2504211190444, Actual:1284\n",
      "Model:1342.7511667013648, Actual:1656\n",
      "Model:946.8221745444312, Actual:644\n",
      "Model:2763.3849352926004, Actual:2001\n",
      "Model:910.7324122003197, Actual:912\n",
      "Model:2055.0906741879558, Actual:1963\n",
      "Model:672.8161437205122, Actual:408\n",
      "Model:1548.7523187383051, Actual:1999\n",
      "Model:4440.818129625749, Actual:4242\n",
      "Model:873.6198805624731, Actual:698\n",
      "Model:4494.283158332631, Actual:4702\n",
      "Model:3039.041628258449, Actual:2735\n",
      "Model:1475.172662897616, Actual:864\n",
      "Model:4111.909527039263, Actual:4337\n",
      "Model:2858.205836046945, Actual:2737\n",
      "Model:1492.0371746718583, Actual:1579\n",
      "Model:743.5003337441867, Actual:707\n",
      "Model:3411.1015571687026, Actual:3283\n",
      "Model:3220.8860373802386, Actual:2896\n",
      "Model:3710.141883855205, Actual:2855\n",
      "Model:604.6154036869839, Actual:394\n",
      "Model:1178.7115506457699, Actual:1628\n",
      "Model:812.0460606968381, Actual:516\n",
      "Model:4099.319739683477, Actual:5700\n",
      "Model:1132.6950425898885, Actual:1044\n",
      "Model:7397.288107643706, Actual:10186\n",
      "Model:1595.9603209245126, Actual:1160\n",
      "Model:6058.364643745294, Actual:6566\n",
      "Model:6222.752337963916, Actual:6416\n",
      "Model:5399.565715055948, Actual:5628\n",
      "Model:2476.611887510031, Actual:2207\n",
      "Model:4918.003822535449, Actual:5599\n",
      "Model:3982.740003911331, Actual:3405\n",
      "Model:2543.940158827194, Actual:1986\n",
      "Model:471.6155450288852, Actual:675\n",
      "Model:823.2491490896823, Actual:766\n",
      "Model:751.5829460357745, Actual:904\n",
      "Model:811.3603131741147, Actual:589\n",
      "Model:3476.464496715462, Actual:3582\n",
      "Model:5694.086912444943, Actual:5950\n",
      "Model:5961.654709900486, Actual:8567\n",
      "Model:3959.9145685017597, Actual:3603\n",
      "Model:4450.397826389961, Actual:4466\n",
      "Model:6619.719121703938, Actual:9738\n",
      "Model:1543.521456316089, Actual:1017\n",
      "Model:1394.3863499105544, Actual:1619\n",
      "Model:1351.2733558388338, Actual:533\n",
      "Model:722.0926457655391, Actual:923\n"
     ]
    }
   ],
   "source": [
    "for X,y in zip(X_test, y_test):\n",
    "    print(f\"Model:{clf.predict([X])[0]}, Actual:{y}\")"
   ]
  },
  {
   "cell_type": "code",
   "execution_count": null,
   "metadata": {},
   "outputs": [],
   "source": []
  }
 ],
 "metadata": {
  "kernelspec": {
   "display_name": "Python 3",
   "language": "python",
   "name": "python3"
  },
  "language_info": {
   "codemirror_mode": {
    "name": "ipython",
    "version": 3
   },
   "file_extension": ".py",
   "mimetype": "text/x-python",
   "name": "python",
   "nbconvert_exporter": "python",
   "pygments_lexer": "ipython3",
   "version": "3.7.4"
  }
 },
 "nbformat": 4,
 "nbformat_minor": 2
}
