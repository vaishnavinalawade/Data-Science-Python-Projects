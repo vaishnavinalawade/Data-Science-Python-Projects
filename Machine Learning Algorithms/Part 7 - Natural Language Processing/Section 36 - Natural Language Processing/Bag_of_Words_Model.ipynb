{
 "cells": [
  {
   "cell_type": "code",
   "execution_count": 1,
   "metadata": {},
   "outputs": [],
   "source": [
    "import numpy as np\n",
    "import pandas as pd"
   ]
  },
  {
   "cell_type": "code",
   "execution_count": 2,
   "metadata": {},
   "outputs": [],
   "source": [
    "dataset = pd.read_csv(\"Restaurant_Reviews.tsv\", delimiter='\\t', quoting=3)"
   ]
  },
  {
   "cell_type": "code",
   "execution_count": 3,
   "metadata": {},
   "outputs": [
    {
     "data": {
      "text/html": [
       "<div>\n",
       "<style scoped>\n",
       "    .dataframe tbody tr th:only-of-type {\n",
       "        vertical-align: middle;\n",
       "    }\n",
       "\n",
       "    .dataframe tbody tr th {\n",
       "        vertical-align: top;\n",
       "    }\n",
       "\n",
       "    .dataframe thead th {\n",
       "        text-align: right;\n",
       "    }\n",
       "</style>\n",
       "<table border=\"1\" class=\"dataframe\">\n",
       "  <thead>\n",
       "    <tr style=\"text-align: right;\">\n",
       "      <th></th>\n",
       "      <th>Review</th>\n",
       "      <th>Liked</th>\n",
       "    </tr>\n",
       "  </thead>\n",
       "  <tbody>\n",
       "    <tr>\n",
       "      <th>0</th>\n",
       "      <td>Wow... Loved this place.</td>\n",
       "      <td>1</td>\n",
       "    </tr>\n",
       "    <tr>\n",
       "      <th>1</th>\n",
       "      <td>Crust is not good.</td>\n",
       "      <td>0</td>\n",
       "    </tr>\n",
       "    <tr>\n",
       "      <th>2</th>\n",
       "      <td>Not tasty and the texture was just nasty.</td>\n",
       "      <td>0</td>\n",
       "    </tr>\n",
       "    <tr>\n",
       "      <th>3</th>\n",
       "      <td>Stopped by during the late May bank holiday of...</td>\n",
       "      <td>1</td>\n",
       "    </tr>\n",
       "    <tr>\n",
       "      <th>4</th>\n",
       "      <td>The selection on the menu was great and so wer...</td>\n",
       "      <td>1</td>\n",
       "    </tr>\n",
       "  </tbody>\n",
       "</table>\n",
       "</div>"
      ],
      "text/plain": [
       "                                              Review  Liked\n",
       "0                           Wow... Loved this place.      1\n",
       "1                                 Crust is not good.      0\n",
       "2          Not tasty and the texture was just nasty.      0\n",
       "3  Stopped by during the late May bank holiday of...      1\n",
       "4  The selection on the menu was great and so wer...      1"
      ]
     },
     "execution_count": 3,
     "metadata": {},
     "output_type": "execute_result"
    }
   ],
   "source": [
    "dataset.head()"
   ]
  },
  {
   "cell_type": "code",
   "execution_count": 4,
   "metadata": {},
   "outputs": [
    {
     "data": {
      "text/plain": [
       "Review    1000\n",
       "Liked     1000\n",
       "dtype: int64"
      ]
     },
     "execution_count": 4,
     "metadata": {},
     "output_type": "execute_result"
    }
   ],
   "source": [
    "dataset.count()"
   ]
  },
  {
   "cell_type": "code",
   "execution_count": 5,
   "metadata": {},
   "outputs": [],
   "source": [
    "import re\n",
    "import nltk"
   ]
  },
  {
   "cell_type": "code",
   "execution_count": 6,
   "metadata": {},
   "outputs": [
    {
     "name": "stderr",
     "output_type": "stream",
     "text": [
      "[nltk_data] Downloading package stopwords to\n",
      "[nltk_data]     C:\\Users\\Vaish\\AppData\\Roaming\\nltk_data...\n",
      "[nltk_data]   Package stopwords is already up-to-date!\n"
     ]
    },
    {
     "data": {
      "text/plain": [
       "True"
      ]
     },
     "execution_count": 6,
     "metadata": {},
     "output_type": "execute_result"
    }
   ],
   "source": [
    "nltk.download('stopwords')"
   ]
  },
  {
   "cell_type": "code",
   "execution_count": 7,
   "metadata": {},
   "outputs": [],
   "source": [
    "from nltk.corpus import stopwords"
   ]
  },
  {
   "cell_type": "code",
   "execution_count": 8,
   "metadata": {},
   "outputs": [],
   "source": [
    "from nltk.stem.porter import PorterStemmer"
   ]
  },
  {
   "cell_type": "code",
   "execution_count": 9,
   "metadata": {},
   "outputs": [],
   "source": [
    "corpus = []\n",
    "for i in range(0,1000):\n",
    "    review = re.sub('[^a-zA-Z]', ' ', dataset['Review'][i])\n",
    "    review = review.split()\n",
    "    ps = PorterStemmer()\n",
    "    all_stopwords = stopwords.words('english')\n",
    "    all_stopwords.remove('not')\n",
    "    review = [ps.stem(word) for word in review if not word in set(all_stopwords)]\n",
    "    review = ' '.join(review)\n",
    "    corpus.append(review)"
   ]
  },
  {
   "cell_type": "markdown",
   "metadata": {},
   "source": [
    "#### Creating Bag of Words"
   ]
  },
  {
   "cell_type": "code",
   "execution_count": 10,
   "metadata": {},
   "outputs": [],
   "source": [
    "from sklearn.feature_extraction.text import CountVectorizer"
   ]
  },
  {
   "cell_type": "code",
   "execution_count": 11,
   "metadata": {},
   "outputs": [],
   "source": [
    "cv = CountVectorizer(max_features=1500)\n",
    "X = cv.fit_transform(corpus).toarray()\n",
    "y = dataset.iloc[:,1].values"
   ]
  },
  {
   "cell_type": "markdown",
   "metadata": {},
   "source": [
    "#### Splitting the dataset into the Training Set and Test Set"
   ]
  },
  {
   "cell_type": "code",
   "execution_count": 12,
   "metadata": {},
   "outputs": [],
   "source": [
    "from sklearn.model_selection import train_test_split"
   ]
  },
  {
   "cell_type": "code",
   "execution_count": 13,
   "metadata": {},
   "outputs": [],
   "source": [
    "X_train, X_test, y_train, y_test = train_test_split(X, y, test_size = 0.2, random_state = 0)\n",
    "text_train, text_test, senti_train, senti_test = train_test_split(dataset.iloc[:,0].values, y, test_size = 0.2, random_state = 0)"
   ]
  },
  {
   "cell_type": "markdown",
   "metadata": {},
   "source": [
    "#### Training the Naive Bayes model on Training set"
   ]
  },
  {
   "cell_type": "code",
   "execution_count": 14,
   "metadata": {},
   "outputs": [],
   "source": [
    "from sklearn.naive_bayes import GaussianNB"
   ]
  },
  {
   "cell_type": "code",
   "execution_count": 15,
   "metadata": {},
   "outputs": [],
   "source": [
    "classifier = GaussianNB()"
   ]
  },
  {
   "cell_type": "code",
   "execution_count": 16,
   "metadata": {},
   "outputs": [
    {
     "data": {
      "text/plain": [
       "GaussianNB()"
      ]
     },
     "execution_count": 16,
     "metadata": {},
     "output_type": "execute_result"
    }
   ],
   "source": [
    "classifier.fit(X_train, y_train)"
   ]
  },
  {
   "cell_type": "code",
   "execution_count": 17,
   "metadata": {},
   "outputs": [],
   "source": [
    "y_pred = classifier.predict(X_test)"
   ]
  },
  {
   "cell_type": "markdown",
   "metadata": {},
   "source": [
    "#### Confusion Matrix "
   ]
  },
  {
   "cell_type": "code",
   "execution_count": 18,
   "metadata": {},
   "outputs": [],
   "source": [
    "from sklearn import metrics"
   ]
  },
  {
   "cell_type": "code",
   "execution_count": 19,
   "metadata": {},
   "outputs": [],
   "source": [
    "cm = metrics.confusion_matrix(y_test, y_pred)\n",
    "ac = metrics.accuracy_score(y_test, y_pred)\n",
    "pr = metrics.precision_score(y_test, y_pred)"
   ]
  },
  {
   "cell_type": "code",
   "execution_count": 20,
   "metadata": {},
   "outputs": [
    {
     "name": "stdout",
     "output_type": "stream",
     "text": [
      "Confusion Matrix\n",
      "[[55 42]\n",
      " [11 92]]\n"
     ]
    }
   ],
   "source": [
    "print('Confusion Matrix')\n",
    "print(cm)"
   ]
  },
  {
   "cell_type": "code",
   "execution_count": 21,
   "metadata": {},
   "outputs": [
    {
     "name": "stdout",
     "output_type": "stream",
     "text": [
      "Accuracy Score is  0.735\n"
     ]
    }
   ],
   "source": [
    "print('Accuracy Score is ', ac)"
   ]
  },
  {
   "cell_type": "code",
   "execution_count": 22,
   "metadata": {},
   "outputs": [
    {
     "name": "stdout",
     "output_type": "stream",
     "text": [
      "Precision Score is  0.6865671641791045\n"
     ]
    }
   ],
   "source": [
    "print('Precision Score is ', pr)"
   ]
  },
  {
   "cell_type": "markdown",
   "metadata": {},
   "source": [
    "#### Incorrect Predictions"
   ]
  },
  {
   "cell_type": "code",
   "execution_count": 23,
   "metadata": {},
   "outputs": [
    {
     "name": "stdout",
     "output_type": "stream",
     "text": [
      "******[0-Negative, 1-Positive]******\n",
      "Incorrect Review : 1\n",
      "Actual Label: 0\n",
      "Predicted Label: 1\n",
      "Review: the presentation of the food was awful.\n",
      "\n",
      "\n",
      "Incorrect Review : 2\n",
      "Actual Label: 0\n",
      "Predicted Label: 1\n",
      "Review: Worst food/service I've had in a while.\n",
      "\n",
      "\n",
      "Incorrect Review : 3\n",
      "Actual Label: 0\n",
      "Predicted Label: 1\n",
      "Review: Never again will I be dining at this place!\n",
      "\n",
      "\n",
      "Incorrect Review : 4\n",
      "Actual Label: 0\n",
      "Predicted Label: 1\n",
      "Review: The ambiance isn't much better.\n",
      "\n",
      "\n",
      "Incorrect Review : 5\n",
      "Actual Label: 0\n",
      "Predicted Label: 1\n",
      "Review: If the food isn't bad enough for you, then enjoy dealing with the world's worst/annoying drunk people.\n",
      "\n",
      "\n",
      "Incorrect Review : 6\n",
      "Actual Label: 0\n",
      "Predicted Label: 1\n",
      "Review: Will never, ever go back.\n",
      "\n",
      "\n",
      "Incorrect Review : 7\n",
      "Actual Label: 0\n",
      "Predicted Label: 1\n",
      "Review: The chains, which I'm no fan of, beat this place easily.\n",
      "\n",
      "\n",
      "Incorrect Review : 8\n",
      "Actual Label: 1\n",
      "Predicted Label: 0\n",
      "Review: This place is a jewel in Las Vegas, and exactly what I've been hoping to find in nearly ten years living here.\n",
      "\n",
      "\n",
      "Incorrect Review : 9\n",
      "Actual Label: 0\n",
      "Predicted Label: 1\n",
      "Review: She ordered a toasted English muffin that came out untoasted.\n",
      "\n",
      "\n",
      "Incorrect Review : 10\n",
      "Actual Label: 0\n",
      "Predicted Label: 1\n",
      "Review: I ordered Albondigas soup - which was just warm - and tasted like tomato soup with frozen meatballs.\n",
      "\n",
      "\n",
      "Incorrect Review : 11\n",
      "Actual Label: 1\n",
      "Predicted Label: 0\n",
      "Review: The staff is super nice and very quick even with the crazy crowds of the downtown juries, lawyers, and court staff.\n",
      "\n",
      "\n",
      "Incorrect Review : 12\n",
      "Actual Label: 0\n",
      "Predicted Label: 1\n",
      "Review: The real disappointment was our waiter.\n",
      "\n",
      "\n",
      "Incorrect Review : 13\n",
      "Actual Label: 0\n",
      "Predicted Label: 1\n",
      "Review: They brought a fresh batch of fries and I was thinking yay something warm but no!\n",
      "\n",
      "\n",
      "Incorrect Review : 14\n",
      "Actual Label: 0\n",
      "Predicted Label: 1\n",
      "Review: Appetite instantly gone.\n",
      "\n",
      "\n",
      "Incorrect Review : 15\n",
      "Actual Label: 0\n",
      "Predicted Label: 1\n",
      "Review: This place should honestly be blown up.\n",
      "\n",
      "\n",
      "Incorrect Review : 16\n",
      "Actual Label: 0\n",
      "Predicted Label: 1\n",
      "Review: The waiter wasn't helpful or friendly and rarely checked on us.\n",
      "\n",
      "\n",
      "Incorrect Review : 17\n",
      "Actual Label: 0\n",
      "Predicted Label: 1\n",
      "Review: Hot dishes are not hot, cold dishes are close to room temp.I watched staff prepare food with BARE HANDS, no gloves.Everything is deep fried in oil.\n",
      "\n",
      "\n",
      "Incorrect Review : 18\n",
      "Actual Label: 0\n",
      "Predicted Label: 1\n",
      "Review: I consider this theft.\n",
      "\n",
      "\n",
      "Incorrect Review : 19\n",
      "Actual Label: 0\n",
      "Predicted Label: 1\n",
      "Review: My husband and I ate lunch here and were very disappointed with the food and service.\n",
      "\n",
      "\n",
      "Incorrect Review : 20\n",
      "Actual Label: 0\n",
      "Predicted Label: 1\n",
      "Review: The warm beer didn't help.\n",
      "\n",
      "\n",
      "Incorrect Review : 21\n",
      "Actual Label: 0\n",
      "Predicted Label: 1\n",
      "Review: I swung in to give them a try but was deeply disappointed.\n",
      "\n",
      "\n",
      "Incorrect Review : 22\n",
      "Actual Label: 0\n",
      "Predicted Label: 1\n",
      "Review: For service, I give them no stars.\n",
      "\n",
      "\n",
      "Incorrect Review : 23\n",
      "Actual Label: 1\n",
      "Predicted Label: 0\n",
      "Review: The chips and salsa were really good, the salsa was very fresh.\n",
      "\n",
      "\n",
      "Incorrect Review : 24\n",
      "Actual Label: 0\n",
      "Predicted Label: 1\n",
      "Review: The descriptions said \"yum yum sauce\" and another said \"eel sauce\", yet another said \"spicy mayo\"...well NONE of the rolls had sauces on them.\n",
      "\n",
      "\n",
      "Incorrect Review : 25\n",
      "Actual Label: 0\n",
      "Predicted Label: 1\n",
      "Review: Weird vibe from owners.\n",
      "\n",
      "\n",
      "Incorrect Review : 26\n",
      "Actual Label: 0\n",
      "Predicted Label: 1\n",
      "Review: After waiting an hour and being seated, I was not in the greatest of moods.\n",
      "\n",
      "\n",
      "Incorrect Review : 27\n",
      "Actual Label: 0\n",
      "Predicted Label: 1\n",
      "Review: AN HOUR... seriously?\n",
      "\n",
      "\n",
      "Incorrect Review : 28\n",
      "Actual Label: 0\n",
      "Predicted Label: 1\n",
      "Review: This place has a lot of promise but fails to deliver.\n",
      "\n",
      "\n",
      "Incorrect Review : 29\n",
      "Actual Label: 0\n",
      "Predicted Label: 1\n",
      "Review: The Buffet at Bellagio was far from what I anticipated.\n",
      "\n",
      "\n",
      "Incorrect Review : 30\n",
      "Actual Label: 1\n",
      "Predicted Label: 0\n",
      "Review: Back to good BBQ, lighter fare, reasonable pricing and tell the public they are back to the old ways.\n",
      "\n",
      "\n",
      "Incorrect Review : 31\n",
      "Actual Label: 0\n",
      "Predicted Label: 1\n",
      "Review: Tried to go here for lunch and it was a madhouse.\n",
      "\n",
      "\n",
      "Incorrect Review : 32\n",
      "Actual Label: 1\n",
      "Predicted Label: 0\n",
      "Review: Extremely Tasty!\n",
      "\n",
      "\n",
      "Incorrect Review : 33\n",
      "Actual Label: 1\n",
      "Predicted Label: 0\n",
      "Review: Food arrived quickly!\n",
      "\n",
      "\n",
      "Incorrect Review : 34\n",
      "Actual Label: 0\n",
      "Predicted Label: 1\n",
      "Review: first time there and might just be the last.\n",
      "\n",
      "\n",
      "Incorrect Review : 35\n",
      "Actual Label: 0\n",
      "Predicted Label: 1\n",
      "Review: It was a bit too sweet, not really spicy enough, and lacked flavor.\n",
      "\n",
      "\n",
      "Incorrect Review : 36\n",
      "Actual Label: 0\n",
      "Predicted Label: 1\n",
      "Review: This place is not quality sushi, it is not a quality restaurant.\n",
      "\n",
      "\n",
      "Incorrect Review : 37\n",
      "Actual Label: 0\n",
      "Predicted Label: 1\n",
      "Review: And then tragedy struck.\n",
      "\n",
      "\n",
      "Incorrect Review : 38\n",
      "Actual Label: 0\n",
      "Predicted Label: 1\n",
      "Review: I've had better bagels from the grocery store.\n",
      "\n",
      "\n",
      "Incorrect Review : 39\n",
      "Actual Label: 1\n",
      "Predicted Label: 0\n",
      "Review: The only good thing was our waiter, he was very helpful and kept the bloddy mary's coming.\n",
      "\n",
      "\n",
      "Incorrect Review : 40\n",
      "Actual Label: 0\n",
      "Predicted Label: 1\n",
      "Review: I think not again\n",
      "\n",
      "\n",
      "Incorrect Review : 41\n",
      "Actual Label: 0\n",
      "Predicted Label: 1\n",
      "Review: WILL NEVER EVER GO BACK AND HAVE TOLD MANY PEOPLE WHAT HAD HAPPENED.\n",
      "\n",
      "\n",
      "Incorrect Review : 42\n",
      "Actual Label: 1\n",
      "Predicted Label: 0\n",
      "Review: Also there are combos like a burger, fries, and beer for 23 which is a decent deal.\n",
      "\n",
      "\n",
      "Incorrect Review : 43\n",
      "Actual Label: 0\n",
      "Predicted Label: 1\n",
      "Review: What happened next was pretty....off putting.\n",
      "\n",
      "\n",
      "Incorrect Review : 44\n",
      "Actual Label: 0\n",
      "Predicted Label: 1\n",
      "Review: The selection of food was not the best.\n",
      "\n",
      "\n",
      "Incorrect Review : 45\n",
      "Actual Label: 0\n",
      "Predicted Label: 1\n",
      "Review: Boy was that sucker dry!!.\n",
      "\n",
      "\n",
      "Incorrect Review : 46\n",
      "Actual Label: 1\n",
      "Predicted Label: 0\n",
      "Review: The steak was amazing...rge fillet relleno was the best seafood plate i have ever had!\n",
      "\n",
      "\n",
      "Incorrect Review : 47\n",
      "Actual Label: 0\n",
      "Predicted Label: 1\n",
      "Review: The only downside is the service.\n",
      "\n",
      "\n",
      "Incorrect Review : 48\n",
      "Actual Label: 1\n",
      "Predicted Label: 0\n",
      "Review: First time going but I think I will quickly become a regular.\n",
      "\n",
      "\n",
      "Incorrect Review : 49\n",
      "Actual Label: 1\n",
      "Predicted Label: 0\n",
      "Review: Nice blanket of moz over top but i feel like this was done to cover up the subpar food.\n",
      "\n",
      "\n",
      "Incorrect Review : 50\n",
      "Actual Label: 0\n",
      "Predicted Label: 1\n",
      "Review: The bus boy on the other hand was so rude.\n",
      "\n",
      "\n",
      "Incorrect Review : 51\n",
      "Actual Label: 0\n",
      "Predicted Label: 1\n",
      "Review: It was a huge awkward 1.5lb piece of cow that was 3/4ths gristle and fat.\n",
      "\n",
      "\n",
      "Incorrect Review : 52\n",
      "Actual Label: 0\n",
      "Predicted Label: 1\n",
      "Review: Now I am getting angry and I want my damn pho.\n",
      "\n",
      "\n",
      "Incorrect Review : 53\n",
      "Actual Label: 0\n",
      "Predicted Label: 1\n",
      "Review: Not much flavor to them, and very poorly constructed.\n",
      "\n",
      "\n"
     ]
    }
   ],
   "source": [
    "print(\"******[0-Negative, 1-Positive]******\")\n",
    "n = 0\n",
    "for document, label, predicted_label in zip(text_test, y_test, y_pred):\n",
    "    for j in range(0,2):\n",
    "        if label == j and predicted_label != j:\n",
    "            for i in range(0, len(document[0])):\n",
    "                n += 1\n",
    "                print(\"Incorrect Review :\", n)\n",
    "                print(\"Actual Label:\", +label)\n",
    "                print(\"Predicted Label:\",+predicted_label)\n",
    "                print(\"Review:\", document)\n",
    "                print('\\n')"
   ]
  },
  {
   "cell_type": "code",
   "execution_count": null,
   "metadata": {},
   "outputs": [],
   "source": []
  }
 ],
 "metadata": {
  "kernelspec": {
   "display_name": "Python 3",
   "language": "python",
   "name": "python3"
  },
  "language_info": {
   "codemirror_mode": {
    "name": "ipython",
    "version": 3
   },
   "file_extension": ".py",
   "mimetype": "text/x-python",
   "name": "python",
   "nbconvert_exporter": "python",
   "pygments_lexer": "ipython3",
   "version": "3.8.3"
  }
 },
 "nbformat": 4,
 "nbformat_minor": 4
}
